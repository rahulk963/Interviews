{
  "metadata": {
    "language_info": {
      "codemirror_mode": {
        "name": "python",
        "version": 3
      },
      "file_extension": ".py",
      "mimetype": "text/x-python",
      "name": "python",
      "nbconvert_exporter": "python",
      "pygments_lexer": "ipython3",
      "version": "3.8"
    },
    "kernelspec": {
      "name": "python",
      "display_name": "Python (Pyodide)",
      "language": "python"
    }
  },
  "nbformat_minor": 4,
  "nbformat": 4,
  "cells": [
    {
      "cell_type": "markdown",
      "source": "Question",
      "metadata": {}
    },
    {
      "cell_type": "markdown",
      "source": "Check for the given year is a leap year. If yes, then check year is palindrome.\n\nYear couldn't be converted to string format",
      "metadata": {}
    },
    {
      "cell_type": "code",
      "source": "def leap_year_check(year):\n    \n    if year % 400 == 0 and year % 100 == 0:\n        return True\n    elif year % 4 == 0 and year % 100 != 0:\n        return True\n    else:\n        return False",
      "metadata": {
        "trusted": true
      },
      "execution_count": 37,
      "outputs": []
    },
    {
      "cell_type": "code",
      "source": "def palindrome_check(year):\n    temp = year\n    rev = 0\n    while temp != 0:\n        rev = (rev * 10) + (temp % 10)\n        temp //= 10\n    \n    if year == rev:\n        return f'{year} is a Leap Year and Palindrome'\n    else:\n        return f'{year} is a Leap Year but Not Palindrome'",
      "metadata": {
        "trusted": true
      },
      "execution_count": 40,
      "outputs": []
    },
    {
      "cell_type": "code",
      "source": "years = [1600, 1800, 1900, 2000, 2002, 2012, 2112]\n\nfor year in years:\n    if leap_year_check(year):\n        print(palindrome_check(year))\n    else:\n        print(f'{year} is Not a Leap Year')",
      "metadata": {
        "trusted": true
      },
      "execution_count": 43,
      "outputs": [
        {
          "name": "stdout",
          "text": "1600 is a Leap Year but Not Palindrome\n1800 is Not a Leap Year\n1900 is Not a Leap Year\n2000 is a Leap Year but Not Palindrome\n2002 is Not a Leap Year\n2012 is a Leap Year but Not Palindrome\n2112 is a Leap Year and Palindrome\n",
          "output_type": "stream"
        }
      ]
    },
    {
      "cell_type": "code",
      "source": "",
      "metadata": {},
      "execution_count": null,
      "outputs": []
    }
  ]
}